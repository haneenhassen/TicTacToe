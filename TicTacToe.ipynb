{
 "cells": [
  {
   "cell_type": "markdown",
   "metadata": {
    "id": "aAjb_hDyTKQh"
   },
   "source": [
    "# Tic Tac Toe Game \n",
    "##### Scratch Building\n",
    "##### No GUI Required "
   ]
  },
  {
   "cell_type": "markdown",
   "metadata": {
    "id": "NG1KZg4sTKQj"
   },
   "source": [
    "#### Some suggested tools before you get started:\n",
    "To take input from a user:\n",
    "\n",
    "    player1 = input(\"Please pick a marker 'X' or 'O'\")\n",
    "    \n",
    "Note that input() takes in a string. If you need an integer value, use\n",
    "\n",
    "    position = int(input('Please enter a number'))\n",
    "    \n",
    "<br>To clear the screen between moves:\n",
    "\n",
    "    from IPython.display import clear_output\n",
    "    clear_output()\n",
    "    \n",
    "Note that clear_output() will only work in jupyter. To clear the screen in other IDEs, consider:\n",
    "\n",
    "    print('\\n'*100)\n",
    "    \n",
    "This scrolls the previous board up out of view. Now on to the program!"
   ]
  },
  {
   "cell_type": "markdown",
   "metadata": {
    "id": "eq31aKoKTKQk"
   },
   "source": [
    "**Step 1: Write a function that can print out a board. Set up your board as a list, where each index 1-9 corresponds with a number on a number pad, so you get a 3 by 3 board representation.**"
   ]
  },
  {
   "cell_type": "code",
   "execution_count": 1,
   "metadata": {
    "id": "v6oZEXZXTKQl"
   },
   "outputs": [],
   "source": [
    "from IPython.display import clear_output\n",
    "\n",
    "def display_board(board):\n",
    "    print (board[0],'l',board[1],'l',board[2])\n",
    "    print('------------')\n",
    "    print (board[3],'l',board[4],'l',board[5])\n",
    "    print('------------')\n",
    "    print (board[6],'l',board[7],'l',board[8])\n",
    "    print('------------')"
   ]
  },
  {
   "cell_type": "markdown",
   "metadata": {
    "id": "YE-nz_ETTKQo"
   },
   "source": [
    "**TEST Step 1:** run your function on a test version of the board list, and make adjustments as necessary"
   ]
  },
  {
   "cell_type": "code",
   "execution_count": 2,
   "metadata": {
    "colab": {
     "base_uri": "https://localhost:8080/",
     "height": 121
    },
    "id": "4iQ9D-u5TKQp",
    "outputId": "59ff7cb4-7211-4d99-f8bf-2ca4167db697"
   },
   "outputs": [
    {
     "name": "stdout",
     "output_type": "stream",
     "text": [
      "X l O l X\n",
      "------------\n",
      "O l X l \n",
      "------------\n",
      "X l O l X\n",
      "------------\n"
     ]
    }
   ],
   "source": [
    "test_board = ['X','O','X','O','X','','X','O','X']\n",
    "display_board(test_board)"
   ]
  },
  {
   "cell_type": "markdown",
   "metadata": {
    "id": "WxeUw0FhTKQr"
   },
   "source": [
    "**Step 2: Write a function that can take in a player input and assign their marker as 'X' or 'O'. Think about using *while* loops to continually ask until you get a correct answer.**"
   ]
  },
  {
   "cell_type": "code",
   "execution_count": 3,
   "metadata": {
    "id": "MG0XC4aXTKQs"
   },
   "outputs": [],
   "source": [
    "def player_input():\n",
    "    while True:\n",
    "        player1 = input(\"Please pick a marker 'X' or 'O'\")\n",
    "        position = int(input('Please enter a number'))\n",
    "        if player1 == 'X' or player1 == 'O':\n",
    "            place_marker(board_Game,player1,position)\n",
    "        else:\n",
    "            print(\"chose one 'X' or 'O' only\")\n",
    "    pass"
   ]
  },
  {
   "cell_type": "markdown",
   "metadata": {
    "id": "aQN1q9gGTKQw"
   },
   "source": [
    "**Step 3: Write a function that takes in the board list object, a marker ('X' or 'O'), and a desired position (number 1-9) and assigns it to the board.**"
   ]
  },
  {
   "cell_type": "code",
   "execution_count": 5,
   "metadata": {
    "id": "drK45WDaTKQx"
   },
   "outputs": [],
   "source": [
    "def place_marker(board, marker, position):\n",
    "    board[position] = marker\n",
    "    display_board(board)\n",
    "    if win_check(board,marker):\n",
    "        print(\"\\n you win {} \\n\".format(marker))\n",
    "        return True\n",
    "    pass"
   ]
  },
  {
   "cell_type": "markdown",
   "metadata": {
    "id": "vRuvrYsVTKQ2"
   },
   "source": [
    "**Step 4: Write a function that takes in a board and a mark (X or O) and then checks to see if that mark has won. **"
   ]
  },
  {
   "cell_type": "code",
   "execution_count": 6,
   "metadata": {
    "id": "Zl_L_t1xTKQ2"
   },
   "outputs": [],
   "source": [
    "def win_check(board, mark):\n",
    "    test = ['0 1 2','3 4 5','6 7 8','0 4 8','2 4 6','0 3 6','1 4 7','2 5 8']\n",
    "    for i in test:\n",
    "        j = i.split()\n",
    "        #print(j)\n",
    "        if board[int(j[0])] == board[int(j[1])] == board[int(j[2])]== mark:\n",
    "            return True\n",
    "    return False\n",
    "    pass"
   ]
  },
  {
   "cell_type": "markdown",
   "metadata": {
    "id": "ROj56ItpTKQ7"
   },
   "source": [
    "**Step 5: Write a function that uses the random module to randomly decide which player goes first. You may want to lookup random.randint() Return a string of which player went first.**"
   ]
  },
  {
   "cell_type": "code",
   "execution_count": 7,
   "metadata": {},
   "outputs": [],
   "source": [
    "def player_input(board,marker):\n",
    "    print(\"player {} is start\".format(marker)) \n",
    "    while True: \n",
    "        playerCh = player_choice(board)\n",
    "        position = int(input('Please enter a number from {}: '.format(playerCh)))\n",
    "        if position in playerCh:\n",
    "            if not(place_marker(board,marker,position)):\n",
    "                if marker == 'X':\n",
    "                    marker = 'O'\n",
    "                else:\n",
    "                    marker = 'X'\n",
    "            else:\n",
    "                break\n",
    "        else:\n",
    "            continue\n",
    "    pass"
   ]
  },
  {
   "cell_type": "code",
   "execution_count": 9,
   "metadata": {
    "id": "NMgrAjU3TKQ7"
   },
   "outputs": [],
   "source": [
    "import random \n",
    "\n",
    "def choose_first():\n",
    "    marker = ''\n",
    "    choose = random.randint(0,1)\n",
    "    if choose == 0:\n",
    "        marker = 'X'\n",
    "    elif choose == 1:\n",
    "        marker = 'O'\n",
    "    return marker"
   ]
  },
  {
   "cell_type": "code",
   "execution_count": 10,
   "metadata": {},
   "outputs": [
    {
     "data": {
      "text/plain": [
       "'X'"
      ]
     },
     "execution_count": 10,
     "metadata": {},
     "output_type": "execute_result"
    }
   ],
   "source": [
    "choose_first()"
   ]
  },
  {
   "cell_type": "markdown",
   "metadata": {
    "id": "TKfVJE_KTKRA"
   },
   "source": [
    "**Step 6: Write a function that checks if the board is full and returns a boolean value. True if full, False otherwise.**"
   ]
  },
  {
   "cell_type": "code",
   "execution_count": 11,
   "metadata": {
    "id": "Vsa0TroYTKRB"
   },
   "outputs": [],
   "source": [
    "def full_board_check(board):\n",
    "    for i in board:\n",
    "        if i == ' ':\n",
    "            return False    \n",
    "    return True\n",
    "    pass"
   ]
  },
  {
   "cell_type": "markdown",
   "metadata": {
    "id": "ju-R3rRATKRD"
   },
   "source": [
    "**Step 7: Write a function that asks for a player's next position (as a number 1-9) and then uses the function from step 6 to check if it's a free position. If it is, then return the position for later use.**"
   ]
  },
  {
   "cell_type": "code",
   "execution_count": 12,
   "metadata": {
    "id": "zLusZVZETKRE"
   },
   "outputs": [],
   "source": [
    "def player_choice(board):\n",
    "    board_free = []\n",
    "    for i in range(0,len(board)):\n",
    "        if board[i] == ' ':\n",
    "            board_free.append(i)\n",
    "    return board_free\n",
    "    pass"
   ]
  },
  {
   "cell_type": "markdown",
   "metadata": {
    "id": "E9ryWxTdTKRG"
   },
   "source": [
    "**Step 8: Write a function that asks the player if they want to play again and returns a boolean True if they do want to play again.**"
   ]
  },
  {
   "cell_type": "code",
   "execution_count": 13,
   "metadata": {
    "id": "1_Nt3ngsTKRG"
   },
   "outputs": [],
   "source": [
    "def replay():\n",
    "    rep = input(\"play again? 'Y' or 'N'\")\n",
    "    if rep == 'N' or rep == 'n':\n",
    "        return False\n",
    "    else:\n",
    "        clear_output()\n",
    "        choose_first()    \n",
    "    return True"
   ]
  },
  {
   "cell_type": "markdown",
   "metadata": {
    "collapsed": true,
    "id": "gjLdHz0MTKRI"
   },
   "source": [
    "**Step 9: Here comes the hard part! Use while loops and the functions you've made to run the game!**"
   ]
  },
  {
   "cell_type": "code",
   "execution_count": 14,
   "metadata": {
    "id": "84vKO9k9TKRJ"
   },
   "outputs": [
    {
     "name": "stdout",
     "output_type": "stream",
     "text": [
      "Welcome to Tic Tac Toe!\n",
      "O will go first.\n",
      "  l   l  \n",
      "------------\n",
      "  l   l  \n",
      "------------\n",
      "  l   l  \n",
      "------------\n",
      "player O is start\n",
      "Please enter a number from [0, 1, 2, 3, 4, 5, 6, 7, 8]: 6\n",
      "  l   l  \n",
      "------------\n",
      "  l   l  \n",
      "------------\n",
      "O l   l  \n",
      "------------\n",
      "Please enter a number from [0, 1, 2, 3, 4, 5, 7, 8]: 7\n",
      "  l   l  \n",
      "------------\n",
      "  l   l  \n",
      "------------\n",
      "O l X l  \n",
      "------------\n",
      "Please enter a number from [0, 1, 2, 3, 4, 5, 8]: 4\n",
      "  l   l  \n",
      "------------\n",
      "  l O l  \n",
      "------------\n",
      "O l X l  \n",
      "------------\n",
      "Please enter a number from [0, 1, 2, 3, 5, 8]: 1\n",
      "  l X l  \n",
      "------------\n",
      "  l O l  \n",
      "------------\n",
      "O l X l  \n",
      "------------\n",
      "Please enter a number from [0, 2, 3, 5, 8]: 5\n",
      "  l X l  \n",
      "------------\n",
      "  l O l O\n",
      "------------\n",
      "O l X l  \n",
      "------------\n",
      "Please enter a number from [0, 2, 3, 8]: 8\n",
      "  l X l  \n",
      "------------\n",
      "  l O l O\n",
      "------------\n",
      "O l X l X\n",
      "------------\n",
      "Please enter a number from [0, 2, 3]: 0\n",
      "O l X l  \n",
      "------------\n",
      "  l O l O\n",
      "------------\n",
      "O l X l X\n",
      "------------\n",
      "Please enter a number from [2, 3]: 2\n",
      "O l X l X\n",
      "------------\n",
      "  l O l O\n",
      "------------\n",
      "O l X l X\n",
      "------------\n",
      "Please enter a number from [3]: 3\n",
      "O l X l X\n",
      "------------\n",
      "O l O l O\n",
      "------------\n",
      "O l X l X\n",
      "------------\n",
      "\n",
      " you win O \n",
      "\n",
      "play again? 'Y' or 'N'N\n"
     ]
    }
   ],
   "source": [
    "print('Welcome to Tic Tac Toe!')\n",
    "\n",
    "while True:\n",
    "    # Reset the board\n",
    "    board_tests = [' ',' ',' ',' ',' ',' ',' ',' ',' ']\n",
    "    \n",
    "    # Choose Markers\n",
    "    marker = choose_first()\n",
    "    \n",
    "    # Who Starts First \n",
    "    print(marker + ' will go first.')\n",
    "    \n",
    "    display_board(board_tests)\n",
    "    \n",
    "    player_input(board_tests,marker)\n",
    "    \n",
    "    if not(replay()):\n",
    "        break"
   ]
  },
  {
   "cell_type": "markdown",
   "metadata": {
    "collapsed": true,
    "id": "V3AlA00FTKRL"
   },
   "source": [
    "## Good Job!"
   ]
  }
 ],
 "metadata": {
  "colab": {
   "name": "TicTacToe.ipynb",
   "provenance": []
  },
  "kernelspec": {
   "display_name": "Python 3 (ipykernel)",
   "language": "python",
   "name": "python3"
  },
  "language_info": {
   "codemirror_mode": {
    "name": "ipython",
    "version": 3
   },
   "file_extension": ".py",
   "mimetype": "text/x-python",
   "name": "python",
   "nbconvert_exporter": "python",
   "pygments_lexer": "ipython3",
   "version": "3.9.7"
  }
 },
 "nbformat": 4,
 "nbformat_minor": 1
}
